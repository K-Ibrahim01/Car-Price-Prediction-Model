{
 "cells": [
  {
   "cell_type": "code",
   "execution_count": 1,
   "id": "001d2ec5",
   "metadata": {},
   "outputs": [],
   "source": [
    "import pandas as pd \n",
    "import numpy as np"
   ]
  },
  {
   "cell_type": "code",
   "execution_count": 34,
   "id": "34d21533",
   "metadata": {},
   "outputs": [],
   "source": [
    "dataset = pd.read_csv(\"D:\\Datasets\\pakwheels.csv\")"
   ]
  },
  {
   "cell_type": "code",
   "execution_count": 35,
   "id": "6f08f639",
   "metadata": {},
   "outputs": [],
   "source": [
    "# this is dropping the columns form the dataframe\n",
    "final_data_frame = dataset.drop(['post_date','price_category','mileage_category','post_day_of_week'],axis=1)"
   ]
  },
  {
   "cell_type": "code",
   "execution_count": 36,
   "id": "0cf342fe",
   "metadata": {},
   "outputs": [],
   "source": [
    "# calculating the mean of price feature form the dataframe\n",
    "average_price = final_data_frame.loc[final_data_frame['price'] != 0 ,'price'].mean()"
   ]
  },
  {
   "cell_type": "code",
   "execution_count": 37,
   "id": "2946a6db",
   "metadata": {
    "scrolled": true
   },
   "outputs": [],
   "source": [
    "# replace the mean that we calculated earlier with the zeros present in the price column in dataframe\n",
    "final_data_frame['price'] = final_data_frame['price'].replace(0 , average_price)"
   ]
  },
  {
   "cell_type": "code",
   "execution_count": 38,
   "id": "d8c6bee7",
   "metadata": {},
   "outputs": [],
   "source": [
    "# we were encountering a problem in which there some e+ in price column data\n",
    "final_data_frame['price'] = final_data_frame['price'].apply(lambda x: f'{x:.2f}')"
   ]
  },
  {
   "cell_type": "code",
   "execution_count": 39,
   "id": "f097b107",
   "metadata": {},
   "outputs": [],
   "source": [
    "# To select the first three words of the title form the title column \n",
    "final_data_frame['title'] = final_data_frame['title'].str.split(' ').str.slice(0,2).str.join(' ')"
   ]
  },
  {
   "cell_type": "code",
   "execution_count": 40,
   "id": "09968e50",
   "metadata": {},
   "outputs": [],
   "source": [
    "# importing some important liabraries\n",
    "from sklearn.model_selection import train_test_split\n",
    "from sklearn.linear_model import LinearRegression\n",
    "from sklearn.preprocessing import OneHotEncoder\n",
    "from sklearn.compose import ColumnTransformer\n",
    "from sklearn.pipeline import make_pipeline\n",
    "from sklearn.pipeline import Pipeline\n",
    "from sklearn.metrics import mean_squared_error, mean_absolute_error, r2_score"
   ]
  },
  {
   "cell_type": "code",
   "execution_count": 41,
   "id": "2ffd42d6",
   "metadata": {},
   "outputs": [],
   "source": [
    "#basically we are seeing the vast categories of title category in the title column of dataframe\n",
    "# here we are seeing how much there is rows about a certain car name and storing it into max variable\n",
    "max = final_data_frame['title'].value_counts()"
   ]
  },
  {
   "cell_type": "code",
   "execution_count": 42,
   "id": "a087b7ab",
   "metadata": {},
   "outputs": [],
   "source": [
    "# here we are taking 24 most frequent categories of title column and storing it into the variable filtered\n",
    "filtered = max.head(24) \n"
   ]
  },
  {
   "cell_type": "code",
   "execution_count": 43,
   "id": "ed50adcb",
   "metadata": {},
   "outputs": [],
   "source": [
    "# this line of code is putting \n",
    "filtered_df = final_data_frame[final_data_frame['title'].isin(filtered.index)]"
   ]
  },
  {
   "cell_type": "code",
   "execution_count": 44,
   "id": "fc51c3a0",
   "metadata": {},
   "outputs": [],
   "source": [
    "# here we are getting the x and y for xy splitting\n",
    "X = filtered_df.drop(['price'], axis=1)\n",
    "Y = filtered_df['price']"
   ]
  },
  {
   "cell_type": "code",
   "execution_count": 45,
   "id": "c35b241c",
   "metadata": {},
   "outputs": [],
   "source": [
    "# resetting the index the columns\n",
    "y = Y.reset_index(drop=True)\n",
    "x = X.reset_index(drop=True)"
   ]
  },
  {
   "cell_type": "code",
   "execution_count": 46,
   "id": "ebce1372",
   "metadata": {},
   "outputs": [],
   "source": [
    "X_train,X_test,Y_train,Y_test = train_test_split(x,y , test_size=0.2, random_state=42)\n"
   ]
  },
  {
   "cell_type": "code",
   "execution_count": 47,
   "id": "efba24b7",
   "metadata": {},
   "outputs": [],
   "source": [
    "ColumnT= ColumnTransformer(transformers=[(\"name\",OneHotEncoder(sparse_output=False,handle_unknown='ignore'),['title','city','fuel_type','transmission','registered','color','assembly'])])"
   ]
  },
  {
   "cell_type": "code",
   "execution_count": 48,
   "id": "bb74aa25",
   "metadata": {},
   "outputs": [],
   "source": [
    "X_transformed_train = ColumnT.fit_transform(X_train)\n",
    "X_transformed_test = ColumnT.transform(X_test)"
   ]
  },
  {
   "cell_type": "code",
   "execution_count": 49,
   "id": "17f83009",
   "metadata": {},
   "outputs": [],
   "source": [
    "model = LinearRegression()"
   ]
  },
  {
   "cell_type": "code",
   "execution_count": 50,
   "id": "6423bcb9",
   "metadata": {},
   "outputs": [],
   "source": [
    "pipe = Pipeline(steps=[\n",
    "    ('preprocessor', ColumnT),\n",
    "    ('model', LinearRegression())\n",
    "])"
   ]
  },
  {
   "cell_type": "code",
   "execution_count": 51,
   "id": "2a6cfd43",
   "metadata": {},
   "outputs": [
    {
     "data": {
      "text/html": [
       "<style>#sk-container-id-2 {color: black;}#sk-container-id-2 pre{padding: 0;}#sk-container-id-2 div.sk-toggleable {background-color: white;}#sk-container-id-2 label.sk-toggleable__label {cursor: pointer;display: block;width: 100%;margin-bottom: 0;padding: 0.3em;box-sizing: border-box;text-align: center;}#sk-container-id-2 label.sk-toggleable__label-arrow:before {content: \"▸\";float: left;margin-right: 0.25em;color: #696969;}#sk-container-id-2 label.sk-toggleable__label-arrow:hover:before {color: black;}#sk-container-id-2 div.sk-estimator:hover label.sk-toggleable__label-arrow:before {color: black;}#sk-container-id-2 div.sk-toggleable__content {max-height: 0;max-width: 0;overflow: hidden;text-align: left;background-color: #f0f8ff;}#sk-container-id-2 div.sk-toggleable__content pre {margin: 0.2em;color: black;border-radius: 0.25em;background-color: #f0f8ff;}#sk-container-id-2 input.sk-toggleable__control:checked~div.sk-toggleable__content {max-height: 200px;max-width: 100%;overflow: auto;}#sk-container-id-2 input.sk-toggleable__control:checked~label.sk-toggleable__label-arrow:before {content: \"▾\";}#sk-container-id-2 div.sk-estimator input.sk-toggleable__control:checked~label.sk-toggleable__label {background-color: #d4ebff;}#sk-container-id-2 div.sk-label input.sk-toggleable__control:checked~label.sk-toggleable__label {background-color: #d4ebff;}#sk-container-id-2 input.sk-hidden--visually {border: 0;clip: rect(1px 1px 1px 1px);clip: rect(1px, 1px, 1px, 1px);height: 1px;margin: -1px;overflow: hidden;padding: 0;position: absolute;width: 1px;}#sk-container-id-2 div.sk-estimator {font-family: monospace;background-color: #f0f8ff;border: 1px dotted black;border-radius: 0.25em;box-sizing: border-box;margin-bottom: 0.5em;}#sk-container-id-2 div.sk-estimator:hover {background-color: #d4ebff;}#sk-container-id-2 div.sk-parallel-item::after {content: \"\";width: 100%;border-bottom: 1px solid gray;flex-grow: 1;}#sk-container-id-2 div.sk-label:hover label.sk-toggleable__label {background-color: #d4ebff;}#sk-container-id-2 div.sk-serial::before {content: \"\";position: absolute;border-left: 1px solid gray;box-sizing: border-box;top: 0;bottom: 0;left: 50%;z-index: 0;}#sk-container-id-2 div.sk-serial {display: flex;flex-direction: column;align-items: center;background-color: white;padding-right: 0.2em;padding-left: 0.2em;position: relative;}#sk-container-id-2 div.sk-item {position: relative;z-index: 1;}#sk-container-id-2 div.sk-parallel {display: flex;align-items: stretch;justify-content: center;background-color: white;position: relative;}#sk-container-id-2 div.sk-item::before, #sk-container-id-2 div.sk-parallel-item::before {content: \"\";position: absolute;border-left: 1px solid gray;box-sizing: border-box;top: 0;bottom: 0;left: 50%;z-index: -1;}#sk-container-id-2 div.sk-parallel-item {display: flex;flex-direction: column;z-index: 1;position: relative;background-color: white;}#sk-container-id-2 div.sk-parallel-item:first-child::after {align-self: flex-end;width: 50%;}#sk-container-id-2 div.sk-parallel-item:last-child::after {align-self: flex-start;width: 50%;}#sk-container-id-2 div.sk-parallel-item:only-child::after {width: 0;}#sk-container-id-2 div.sk-dashed-wrapped {border: 1px dashed gray;margin: 0 0.4em 0.5em 0.4em;box-sizing: border-box;padding-bottom: 0.4em;background-color: white;}#sk-container-id-2 div.sk-label label {font-family: monospace;font-weight: bold;display: inline-block;line-height: 1.2em;}#sk-container-id-2 div.sk-label-container {text-align: center;}#sk-container-id-2 div.sk-container {/* jupyter's `normalize.less` sets `[hidden] { display: none; }` but bootstrap.min.css set `[hidden] { display: none !important; }` so we also need the `!important` here to be able to override the default hidden behavior on the sphinx rendered scikit-learn.org. See: https://github.com/scikit-learn/scikit-learn/issues/21755 */display: inline-block !important;position: relative;}#sk-container-id-2 div.sk-text-repr-fallback {display: none;}</style><div id=\"sk-container-id-2\" class=\"sk-top-container\"><div class=\"sk-text-repr-fallback\"><pre>Pipeline(steps=[(&#x27;preprocessor&#x27;,\n",
       "                 ColumnTransformer(transformers=[(&#x27;name&#x27;,\n",
       "                                                  OneHotEncoder(handle_unknown=&#x27;ignore&#x27;,\n",
       "                                                                sparse_output=False),\n",
       "                                                  [&#x27;title&#x27;, &#x27;city&#x27;, &#x27;fuel_type&#x27;,\n",
       "                                                   &#x27;transmission&#x27;, &#x27;registered&#x27;,\n",
       "                                                   &#x27;color&#x27;, &#x27;assembly&#x27;])])),\n",
       "                (&#x27;model&#x27;, LinearRegression())])</pre><b>In a Jupyter environment, please rerun this cell to show the HTML representation or trust the notebook. <br />On GitHub, the HTML representation is unable to render, please try loading this page with nbviewer.org.</b></div><div class=\"sk-container\" hidden><div class=\"sk-item sk-dashed-wrapped\"><div class=\"sk-label-container\"><div class=\"sk-label sk-toggleable\"><input class=\"sk-toggleable__control sk-hidden--visually\" id=\"sk-estimator-id-6\" type=\"checkbox\" ><label for=\"sk-estimator-id-6\" class=\"sk-toggleable__label sk-toggleable__label-arrow\">Pipeline</label><div class=\"sk-toggleable__content\"><pre>Pipeline(steps=[(&#x27;preprocessor&#x27;,\n",
       "                 ColumnTransformer(transformers=[(&#x27;name&#x27;,\n",
       "                                                  OneHotEncoder(handle_unknown=&#x27;ignore&#x27;,\n",
       "                                                                sparse_output=False),\n",
       "                                                  [&#x27;title&#x27;, &#x27;city&#x27;, &#x27;fuel_type&#x27;,\n",
       "                                                   &#x27;transmission&#x27;, &#x27;registered&#x27;,\n",
       "                                                   &#x27;color&#x27;, &#x27;assembly&#x27;])])),\n",
       "                (&#x27;model&#x27;, LinearRegression())])</pre></div></div></div><div class=\"sk-serial\"><div class=\"sk-item sk-dashed-wrapped\"><div class=\"sk-label-container\"><div class=\"sk-label sk-toggleable\"><input class=\"sk-toggleable__control sk-hidden--visually\" id=\"sk-estimator-id-7\" type=\"checkbox\" ><label for=\"sk-estimator-id-7\" class=\"sk-toggleable__label sk-toggleable__label-arrow\">preprocessor: ColumnTransformer</label><div class=\"sk-toggleable__content\"><pre>ColumnTransformer(transformers=[(&#x27;name&#x27;,\n",
       "                                 OneHotEncoder(handle_unknown=&#x27;ignore&#x27;,\n",
       "                                               sparse_output=False),\n",
       "                                 [&#x27;title&#x27;, &#x27;city&#x27;, &#x27;fuel_type&#x27;, &#x27;transmission&#x27;,\n",
       "                                  &#x27;registered&#x27;, &#x27;color&#x27;, &#x27;assembly&#x27;])])</pre></div></div></div><div class=\"sk-parallel\"><div class=\"sk-parallel-item\"><div class=\"sk-item\"><div class=\"sk-label-container\"><div class=\"sk-label sk-toggleable\"><input class=\"sk-toggleable__control sk-hidden--visually\" id=\"sk-estimator-id-8\" type=\"checkbox\" ><label for=\"sk-estimator-id-8\" class=\"sk-toggleable__label sk-toggleable__label-arrow\">name</label><div class=\"sk-toggleable__content\"><pre>[&#x27;title&#x27;, &#x27;city&#x27;, &#x27;fuel_type&#x27;, &#x27;transmission&#x27;, &#x27;registered&#x27;, &#x27;color&#x27;, &#x27;assembly&#x27;]</pre></div></div></div><div class=\"sk-serial\"><div class=\"sk-item\"><div class=\"sk-estimator sk-toggleable\"><input class=\"sk-toggleable__control sk-hidden--visually\" id=\"sk-estimator-id-9\" type=\"checkbox\" ><label for=\"sk-estimator-id-9\" class=\"sk-toggleable__label sk-toggleable__label-arrow\">OneHotEncoder</label><div class=\"sk-toggleable__content\"><pre>OneHotEncoder(handle_unknown=&#x27;ignore&#x27;, sparse_output=False)</pre></div></div></div></div></div></div></div></div><div class=\"sk-item\"><div class=\"sk-estimator sk-toggleable\"><input class=\"sk-toggleable__control sk-hidden--visually\" id=\"sk-estimator-id-10\" type=\"checkbox\" ><label for=\"sk-estimator-id-10\" class=\"sk-toggleable__label sk-toggleable__label-arrow\">LinearRegression</label><div class=\"sk-toggleable__content\"><pre>LinearRegression()</pre></div></div></div></div></div></div></div>"
      ],
      "text/plain": [
       "Pipeline(steps=[('preprocessor',\n",
       "                 ColumnTransformer(transformers=[('name',\n",
       "                                                  OneHotEncoder(handle_unknown='ignore',\n",
       "                                                                sparse_output=False),\n",
       "                                                  ['title', 'city', 'fuel_type',\n",
       "                                                   'transmission', 'registered',\n",
       "                                                   'color', 'assembly'])])),\n",
       "                ('model', LinearRegression())])"
      ]
     },
     "execution_count": 51,
     "metadata": {},
     "output_type": "execute_result"
    }
   ],
   "source": [
    "pipe.fit(X_train,Y_train)"
   ]
  },
  {
   "cell_type": "code",
   "execution_count": 52,
   "id": "8445d939",
   "metadata": {},
   "outputs": [],
   "source": [
    "Y_pred = pipe.predict(X_test)\n",
    "Y_train_pred = pipe.predict(X_train)"
   ]
  },
  {
   "cell_type": "code",
   "execution_count": 53,
   "id": "18b3b738",
   "metadata": {},
   "outputs": [],
   "source": [
    "def predict_price(title, city, model,mileage,fuel_type, transmission, registered, color, assembly,engine_capacity,vehicle_age ):\n",
    "    # Create a DataFrame with the input data\n",
    "    input_data = pd.DataFrame({\n",
    "        'title': [title],\n",
    "        'city': [city],\n",
    "        'model':[model],\n",
    "        'mileage':[mileage],\n",
    "        'fuel_type': [fuel_type],\n",
    "        'transmission': [transmission],\n",
    "        'registered': [registered],\n",
    "        'color': [color],\n",
    "        'assembly': [assembly],\n",
    "        'engine_capacity':[engine_capacity],\n",
    "        'vehicle_age':[vehicle_age],\n",
    "    })\n",
    "    \n",
    "    # Use the pipeline to predict the price\n",
    "    predicted_price = pipe.predict(input_data)\n",
    "    \n",
    "    # Return the predicted price\n",
    "    return predicted_price[0]"
   ]
  },
  {
   "cell_type": "code",
   "execution_count": 54,
   "id": "4d6bde19",
   "metadata": {},
   "outputs": [],
   "source": [
    " predicted_price = predict_price(\n",
    "    title='Suzuki Mehran', \n",
    "    city='Multan', \n",
    "    model= 2016,\n",
    "    mileage=100000,\n",
    "    fuel_type='Petrol', \n",
    "    transmission='Not Available', \n",
    "    registered='Multan', \n",
    "    color='White', \n",
    "    assembly='Local',\n",
    "    engine_capacity=1000,\n",
    "    vehicle_age=8\n",
    ")\n",
    "    "
   ]
  },
  {
   "cell_type": "code",
   "execution_count": 55,
   "id": "63d91c2d",
   "metadata": {},
   "outputs": [
    {
     "data": {
      "text/plain": [
       "1216512.0"
      ]
     },
     "execution_count": 55,
     "metadata": {},
     "output_type": "execute_result"
    }
   ],
   "source": [
    "predicted_price"
   ]
  },
  {
   "cell_type": "code",
   "execution_count": 56,
   "id": "3e280222",
   "metadata": {},
   "outputs": [],
   "source": [
    "from sklearn.metrics import mean_absolute_error, mean_squared_error, r2_score"
   ]
  },
  {
   "cell_type": "code",
   "execution_count": 57,
   "id": "88859c2c",
   "metadata": {},
   "outputs": [],
   "source": [
    "mse = mean_squared_error(Y_train, Y_train_pred)\n",
    "mae = mean_absolute_error(Y_train, Y_train_pred)\n",
    "r2 = r2_score(Y_train, Y_train_pred)"
   ]
  },
  {
   "cell_type": "code",
   "execution_count": 27,
   "id": "efe10184",
   "metadata": {},
   "outputs": [
    {
     "data": {
      "text/plain": [
       "0.6615970317460534"
      ]
     },
     "execution_count": 27,
     "metadata": {},
     "output_type": "execute_result"
    }
   ],
   "source": [
    "r2"
   ]
  },
  {
   "cell_type": "code",
   "execution_count": 28,
   "id": "96b0c901",
   "metadata": {},
   "outputs": [
    {
     "data": {
      "text/plain": [
       "1429515.2316968492"
      ]
     },
     "execution_count": 28,
     "metadata": {},
     "output_type": "execute_result"
    }
   ],
   "source": [
    "mae"
   ]
  },
  {
   "cell_type": "code",
   "execution_count": 29,
   "id": "51473bfc",
   "metadata": {},
   "outputs": [
    {
     "data": {
      "text/plain": [
       "title\n",
       "Toyota Corolla     7306\n",
       "Honda Civic        4637\n",
       "Honda City         3360\n",
       "Suzuki Mehran      2684\n",
       "Suzuki Alto        2489\n",
       "Suzuki Cultus      2298\n",
       "Suzuki Wagon       1326\n",
       "Toyota Vitz        1237\n",
       "Suzuki Swift        941\n",
       "Toyota Yaris        940\n",
       "Honda Vezel         802\n",
       "Daihatsu Mira       754\n",
       "KIA Sportage        746\n",
       "Toyota Passo        700\n",
       "Toyota Prado        688\n",
       "Toyota Prius        660\n",
       "Suzuki Bolan        655\n",
       "Toyota Hilux        617\n",
       "Toyota Land         611\n",
       "Toyota Aqua         580\n",
       "Mercedes Benz       495\n",
       "Toyota Fortuner     488\n",
       "Daihatsu Cuore      412\n",
       "Suzuki Every        398\n",
       "Name: count, dtype: int64"
      ]
     },
     "execution_count": 29,
     "metadata": {},
     "output_type": "execute_result"
    }
   ],
   "source": [
    "filtered_df['title'].value_counts()"
   ]
  },
  {
   "cell_type": "code",
   "execution_count": null,
   "id": "e1063906",
   "metadata": {},
   "outputs": [],
   "source": []
  },
  {
   "cell_type": "code",
   "execution_count": null,
   "id": "86e4ba2e",
   "metadata": {},
   "outputs": [],
   "source": []
  },
  {
   "cell_type": "code",
   "execution_count": null,
   "id": "afc452cb",
   "metadata": {},
   "outputs": [],
   "source": []
  },
  {
   "cell_type": "code",
   "execution_count": null,
   "id": "c0024c67",
   "metadata": {},
   "outputs": [],
   "source": []
  },
  {
   "cell_type": "code",
   "execution_count": null,
   "id": "75ebf927",
   "metadata": {},
   "outputs": [],
   "source": []
  }
 ],
 "metadata": {
  "kernelspec": {
   "display_name": "Python 3 (ipykernel)",
   "language": "python",
   "name": "python3"
  },
  "language_info": {
   "codemirror_mode": {
    "name": "ipython",
    "version": 3
   },
   "file_extension": ".py",
   "mimetype": "text/x-python",
   "name": "python",
   "nbconvert_exporter": "python",
   "pygments_lexer": "ipython3",
   "version": "3.11.5"
  }
 },
 "nbformat": 4,
 "nbformat_minor": 5
}
